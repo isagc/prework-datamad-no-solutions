{
 "cells": [
  {
   "cell_type": "markdown",
   "metadata": {},
   "source": [
    "# Rock Paper Scissors\n",
    "\n",
    "Let's play the famous game against our computer.\n",
    "\n",
    "https://en.wikipedia.org/wiki/Rock%E2%80%93paper%E2%80%93scissors\n",
    "\n",
    "The use of functions is recommended\n",
    "\n",
    "## Goals\n",
    "1. Use of loop\n",
    "2. Data capture by console\n",
    "3. Use if-elif-else\n",
    "4. Use of try-except\n",
    "5. Definition of functions. Modular programming\n",
    "6. Logical operators.\n",
    "7. Print\n",
    "8. Import modules"
   ]
  },
  {
   "cell_type": "code",
   "execution_count": 1,
   "metadata": {},
   "outputs": [],
   "source": [
    "# Import the choice function of the random module\n",
    "import random"
   ]
  },
  {
   "cell_type": "code",
   "execution_count": 2,
   "metadata": {},
   "outputs": [],
   "source": [
    "# Assign to a list the 3 possible options: 'stone', 'paper' or 'scissors'.\n",
    "# https://stackoverflow.com/questions/306400/how-to-randomly-select-an-item-from-a-list\n",
    "opciones = [\"piedra\", \"papel\", \"tijera\"]\n",
    "#print(random.choice(opciones))"
   ]
  },
  {
   "cell_type": "code",
   "execution_count": 3,
   "metadata": {},
   "outputs": [],
   "source": [
    "# Assign a variable to the maximum number of games: 1, 3, 5, etc ...\n",
    "maxjuegos = 5"
   ]
  },
  {
   "cell_type": "code",
   "execution_count": 4,
   "metadata": {},
   "outputs": [],
   "source": [
    "# Assign a variable to the number of games a player must win to win.\n",
    "# Preferably the value will be based on the number of maximum games\n",
    "if maxjuegos % 2:\n",
    "    minwin = (maxjuegos + 1) / 2\n",
    "else:\n",
    "    minwin = (maxjuegos + 2) / 2"
   ]
  },
  {
   "cell_type": "code",
   "execution_count": 5,
   "metadata": {},
   "outputs": [],
   "source": [
    "# Define a function that randomly returns one of the 3 options.\n",
    "# This will correspond to the play of the machine. Totally random.\n",
    "def juego_maquina ():\n",
    "    m = random.choice(opciones)\n",
    "    return m"
   ]
  },
  {
   "cell_type": "code",
   "execution_count": 6,
   "metadata": {},
   "outputs": [],
   "source": [
    "# Define a function that asks your choice: 'stone', 'paper' or 'scissors'\n",
    "# you should only allow one of the 3 options. This is defensive programming.\n",
    "# If it is not stone, paper or scissors keep asking until it is.\n",
    "def juego_isa():\n",
    "    h = input(\"Elige entre: piedra, papel, o tijera: \")\n",
    "    while h not in opciones:\n",
    "        h = input(\"Elige entre: piedra, papel, o tijera: \")\n",
    "    return h"
   ]
  },
  {
   "cell_type": "code",
   "execution_count": 7,
   "metadata": {},
   "outputs": [],
   "source": [
    "# Define a function that resolves a combat.\n",
    "# Returns 0 if there is a tie, 1 if the machine wins, 2 if the human player wins\n",
    "def combate(m,h):\n",
    "    if m == h:\n",
    "        return 0\n",
    "    elif (m == \"papel\" and h == \"piedra\") or (m == \"tijera\" and h == \"papel\") or (m == \"piedra\" and h == \"tijera\"):\n",
    "        return 1\n",
    "    else:\n",
    "        return 2"
   ]
  },
  {
   "cell_type": "code",
   "execution_count": 8,
   "metadata": {},
   "outputs": [],
   "source": [
    "# Define a function that shows the choice of each player and the state of the game\n",
    "# This function should be used every time accumulated points are updated\n",
    "def status(m, h, mgana, hgana):\n",
    "    print (\"Maquina: \" + str(m))\n",
    "    print (\"Usuario: \" + str(h))\n",
    "    print (\"Maquina= \", str(gana_m) + \" \" + \"Usuario= \", str(gana_h))"
   ]
  },
  {
   "cell_type": "code",
   "execution_count": 9,
   "metadata": {},
   "outputs": [],
   "source": [
    "# Create two variables that accumulate the wins of each participant\n",
    "gana_m = 0\n",
    "gana_h = 0"
   ]
  },
  {
   "cell_type": "code",
   "execution_count": 10,
   "metadata": {},
   "outputs": [
    {
     "name": "stdout",
     "output_type": "stream",
     "text": [
      "Elige entre: piedra, papel, o tijera: piedra\n",
      "Elige entre: piedra, papel, o tijera: piedra\n",
      "Elige entre: piedra, papel, o tijera: piedra\n",
      "Maquina: piedra\n",
      "Usuario: piedra\n",
      "Maquina=  3Usuario=  3\n"
     ]
    }
   ],
   "source": [
    "# Create a loop that iterates while no player reaches the minimum of wins\n",
    "# necessary to win. Inside the loop solves the play of the\n",
    "# machine and ask the player's. Compare them and update the value of the variables\n",
    "# that accumulate the wins of each participant.\n",
    "while (gana_h < minwin) and (gana_m < minwin):\n",
    "    m = juego_maquina()\n",
    "    h = juego_isa()\n",
    "    if combate(m,h) == 0:\n",
    "        gana_h += 1\n",
    "        gana_m += 1\n",
    "    elif combate(m,h) == 1:\n",
    "        gana_m += 1\n",
    "    else:\n",
    "        gana_h +=1\n",
    "\n",
    "status(m, h, gana_m, gana_h)"
   ]
  },
  {
   "cell_type": "code",
   "execution_count": 11,
   "metadata": {},
   "outputs": [
    {
     "ename": "NameError",
     "evalue": "name 'humanwin' is not defined",
     "output_type": "error",
     "traceback": [
      "\u001b[0;31m---------------------------------------------------------------------------\u001b[0m",
      "\u001b[0;31mNameError\u001b[0m                                 Traceback (most recent call last)",
      "\u001b[0;32m<ipython-input-11-2a56b9736e88>\u001b[0m in \u001b[0;36m<module>\u001b[0;34m\u001b[0m\n\u001b[1;32m      1\u001b[0m \u001b[0;31m# Print by console the winner of the game based on who has more accumulated wins\u001b[0m\u001b[0;34m\u001b[0m\u001b[0;34m\u001b[0m\u001b[0;34m\u001b[0m\u001b[0m\n\u001b[0;32m----> 2\u001b[0;31m \u001b[0;32mif\u001b[0m \u001b[0mhumanwin\u001b[0m \u001b[0;34m>\u001b[0m \u001b[0mmachinewin\u001b[0m\u001b[0;34m:\u001b[0m\u001b[0;34m\u001b[0m\u001b[0;34m\u001b[0m\u001b[0m\n\u001b[0m\u001b[1;32m      3\u001b[0m     \u001b[0mprint\u001b[0m\u001b[0;34m(\u001b[0m\u001b[0;34m'human'\u001b[0m\u001b[0;34m)\u001b[0m\u001b[0;34m\u001b[0m\u001b[0;34m\u001b[0m\u001b[0m\n\u001b[1;32m      4\u001b[0m \u001b[0;32melse\u001b[0m\u001b[0;34m:\u001b[0m\u001b[0;34m\u001b[0m\u001b[0;34m\u001b[0m\u001b[0m\n\u001b[1;32m      5\u001b[0m     \u001b[0mprint\u001b[0m\u001b[0;34m(\u001b[0m\u001b[0;34m'machine'\u001b[0m\u001b[0;34m)\u001b[0m\u001b[0;34m\u001b[0m\u001b[0;34m\u001b[0m\u001b[0m\n",
      "\u001b[0;31mNameError\u001b[0m: name 'humanwin' is not defined"
     ]
    }
   ],
   "source": [
    "# Print by console the winner of the game based on who has more accumulated wins\n",
    "if humanwin > machinewin:\n",
    "    print('human')\n",
    "else:\n",
    "    print('machine')"
   ]
  },
  {
   "cell_type": "markdown",
   "metadata": {},
   "source": [
    "**Expected output**: Depends on the inputs, you know how to play and what to expect. "
   ]
  },
  {
   "cell_type": "markdown",
   "metadata": {},
   "source": [
    "# Bonus: Stone, paper, scissors, lizard, spock\n",
    "\n",
    "Now the improvement begins.\n",
    "\n",
    "![](images/rpsls.jpg)\n",
    "\n",
    "\n",
    "http://www.samkass.com/theories/RPSSL.html\n",
    "\n",
    "You are asked to impliment some improvements with respect to the simple previous game. In addition, the number of games (which must be ODD) will be requested per console until a valid number is entered.\n",
    "\n",
    "Improvements:\n",
    "* 5 options: stone, paper, scissors, lizard, spock\n",
    "* The number of games is requested per console\n",
    "Tip: Reuse code that you already use. If you have programmed intelligently, the bonus are simple modifications to the original game."
   ]
  },
  {
   "cell_type": "code",
   "execution_count": null,
   "metadata": {},
   "outputs": [],
   "source": [
    "# Import the choice function of the random module\n",
    "\n",
    "\n",
    "# Define a function that asks for an odd number on the keyboard, until it is not valid\n",
    "# will keep asking\n",
    "\n",
    "\n",
    "# Assign a list of 5 possible options.\n",
    "\n",
    "\n",
    "# Assign a variable to the maximum number of games: 1, 3, 5, etc ...\n",
    "# This time the previously defined function is used\n",
    "\n",
    "\n",
    "# Assign a variable to the number of games a player must win to win.\n",
    "# Preferably the value will be based on the number of maximum games\n",
    "\n",
    "\n",
    "# Define a function that randomly returns one of the 5 options.\n",
    "# This will correspond to the play of the machine. Totally random.\n",
    "\n",
    "\n",
    "# Define a function that asks your choice between 5\n",
    "# you should only allow one of the 5 options. This is defensive programming.\n",
    "# If it is not valid, keep asking until it is valid.\n",
    "\n",
    "\n",
    "# Define a function that resolves a combat.\n",
    "# Returns 0 if there is a tie, 1 if the machine wins, 2 if the human player wins\n",
    "# Now there are more options\n",
    "\n",
    "\n",
    "    \n",
    "# Define a function that shows the choice of each player and the state of the game\n",
    "# This function should be used every time accumulated points are updated\n",
    "\n",
    "    \n",
    "# Create two variables that accumulate the wins of each participant\n",
    "\n",
    "\n",
    "# Create a loop that iterates while no player reaches the minimum of wins\n",
    "# necessary to win. Inside the loop solves the play of the\n",
    "# machine and ask the player's. Compare them and update the value of the variables\n",
    "# that accumulate the wins of each participant.\n",
    "    \n",
    "    \n",
    "# Print by console the winner of the game based on who has more accumulated wins\n",
    "\n"
   ]
  },
  {
   "cell_type": "markdown",
   "metadata": {},
   "source": [
    "**Expected output**: Depends on the inputs, you know how to play and what to expect. "
   ]
  },
  {
   "cell_type": "code",
   "execution_count": null,
   "metadata": {},
   "outputs": [],
   "source": [
    "# Import the choice function of the random module\n"
   ]
  },
  {
   "cell_type": "code",
   "execution_count": null,
   "metadata": {},
   "outputs": [],
   "source": [
    "# Define a function that asks for an odd number on the keyboard, until it is not valid\n",
    "# will keep asking\n"
   ]
  },
  {
   "cell_type": "code",
   "execution_count": null,
   "metadata": {},
   "outputs": [],
   "source": [
    "# Assign a list of 5 possible options.\n"
   ]
  },
  {
   "cell_type": "code",
   "execution_count": null,
   "metadata": {},
   "outputs": [],
   "source": [
    "# Assign a variable to the maximum number of games: 1, 3, 5, etc ...\n",
    "# This time the previously defined function is used\n"
   ]
  },
  {
   "cell_type": "code",
   "execution_count": null,
   "metadata": {},
   "outputs": [],
   "source": [
    "# Assign a variable to the number of games a player must win to win.\n",
    "# Preferably the value will be based on the number of maximum games\n"
   ]
  },
  {
   "cell_type": "code",
   "execution_count": null,
   "metadata": {},
   "outputs": [],
   "source": [
    "# Define a function that randomly returns one of the 5 options.\n",
    "# This will correspond to the play of the machine. Totally random.\n",
    "\n"
   ]
  },
  {
   "cell_type": "code",
   "execution_count": null,
   "metadata": {},
   "outputs": [],
   "source": [
    "# Define a function that asks your choice between 5\n",
    "# you should only allow one of the 5 options. This is defensive programming.\n",
    "# If it is not valid, keep asking until it is valid.\n"
   ]
  },
  {
   "cell_type": "code",
   "execution_count": null,
   "metadata": {},
   "outputs": [],
   "source": [
    "# Define a function that resolves a combat.\n",
    "# Returns 0 if there is a tie, 1 if the machine wins, 2 if the human player wins\n",
    "# Now there are more options\n"
   ]
  }
 ],
 "metadata": {
  "kernelspec": {
   "display_name": "Python 3",
   "language": "python",
   "name": "python3"
  },
  "language_info": {
   "codemirror_mode": {
    "name": "ipython",
    "version": 3
   },
   "file_extension": ".py",
   "mimetype": "text/x-python",
   "name": "python",
   "nbconvert_exporter": "python",
   "pygments_lexer": "ipython3",
   "version": "3.7.3"
  }
 },
 "nbformat": 4,
 "nbformat_minor": 2
}
